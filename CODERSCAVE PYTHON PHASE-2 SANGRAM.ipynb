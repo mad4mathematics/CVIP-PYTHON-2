{
 "cells": [
  {
   "cell_type": "markdown",
   "id": "c76e585d",
   "metadata": {},
   "source": [
    "**<font color='red' size='7' face='Times New Roman'>CODERSCAVE</font>**<br><br>\n",
    "**<font color='red' size='6.5' face='Times New Roman'>DOMAIN: PYTHON DEVELOPMENT</font>**<br><br>\n",
    "**<font color='red' size='6.5' face='Times New Roman'>PHASE-2 TASK SUBMISSION</font>**<br><br>\n",
    "**<font color='red' size='6.5' face='Times New Roman'>SUBMITTED BY - SANGRAM MEHER</font>**\n"
   ]
  },
  {
   "cell_type": "markdown",
   "id": "688d8497",
   "metadata": {},
   "source": [
    "<hr style=\"border: 1px dotted black;\">\n"
   ]
  },
  {
   "cell_type": "markdown",
   "id": "d63dede1",
   "metadata": {},
   "source": [
    "<font color='green' size='6'><strong><font face='Times New Roman'>3. NORMAL TASK : TYPING SPEED TESTER</font>\n"
   ]
  },
  {
   "cell_type": "markdown",
   "id": "0df797ad",
   "metadata": {},
   "source": [
    "<font color='darkblue' size='4'>\n",
    "The objective of this project is to design and develop a typing speed tester application that allows users to practice their typing skills and receive feedback on their typing speed and accuracy. The application should present users with random text for typing and calculate their typing speed in words per minute (WPM).\n",
    "</font>\n"
   ]
  },
  {
   "cell_type": "code",
   "execution_count": 1,
   "id": "484d67de",
   "metadata": {},
   "outputs": [
    {
     "name": "stdout",
     "output_type": "stream",
     "text": [
      "Type the following:\n",
      "Teachers can open the door, but you must enter it yourself.\n",
      "Start typing: Teachers can open the door, but you must enter it yourself.\n",
      "Your typing speed: 43.05 WPM\n",
      "Accuracy: 100.00%\n",
      "Do you want to play again? (yes/no): yes\n",
      "Type the following:\n",
      "The quick brown fox jumps over the lazy dog.\n",
      "Start typing: The quick brown fox jumps over the lazy dog.\n",
      "Your typing speed: 43.17 WPM\n",
      "Accuracy: 100.00%\n",
      "Do you want to play again? (yes/no): yes\n",
      "Type the following:\n",
      "Practice makes perfect.\n",
      "Start typing: Practice makes perfect.\n",
      "Your typing speed: 29.29 WPM\n",
      "Accuracy: 100.00%\n",
      "Do you want to play again? (yes/no): no\n",
      "Thank you for playing!\n"
     ]
    }
   ],
   "source": [
    "import random\n",
    "import time\n",
    "\n",
    "phrases = [\n",
    "    \"The quick brown fox jumps over the lazy dog.\",\n",
    "    \"Practice makes perfect.\",\n",
    "    \"Teachers can open the door, but you must enter it yourself.\",\n",
    "    \"A person who never made a mistake never tried anything new.\",\n",
    "    \"Thank You CodersCave for this opportunity.\"\n",
    "]\n",
    "\n",
    "def typing_test(phrase):\n",
    "    print(\"Type the following:\")\n",
    "    print(phrase)\n",
    "\n",
    "    start_time = time.time()\n",
    "\n",
    "    user_input = input(\"Start typing: \")\n",
    "\n",
    "    end_time = time.time()\n",
    "\n",
    "    words = phrase.split()\n",
    "    elapsed_time = end_time - start_time\n",
    "    wpm = len(words) / (elapsed_time / 60)\n",
    "\n",
    "    accuracy = calculate_accuracy(phrase, user_input)\n",
    "\n",
    "    print(f\"Your typing speed: {wpm:.2f} WPM\")\n",
    "    print(f\"Accuracy: {accuracy:.2%}\")\n",
    "\n",
    "def calculate_accuracy(phrase, user_input):\n",
    "    correct_chars = sum(c1 == c2 for c1, c2 in zip(phrase, user_input))\n",
    "    total_chars = len(phrase)\n",
    "    accuracy = correct_chars / total_chars\n",
    "    return accuracy\n",
    "\n",
    "if __name__ == \"__main__\":\n",
    "    while True:\n",
    "        phrase = random.choice(phrases)\n",
    "        typing_test(phrase)\n",
    "\n",
    "        play_again = input(\"Do you want to play again? (yes/no): \").strip().lower()\n",
    "        if play_again != \"yes\":\n",
    "            print(\"Thank you for playing!\")\n",
    "            break\n"
   ]
  },
  {
   "cell_type": "markdown",
   "id": "4fb2708a",
   "metadata": {},
   "source": [
    "<hr style=\"border: 1px dotted black;\">\n"
   ]
  },
  {
   "cell_type": "markdown",
   "id": "8995dc04",
   "metadata": {},
   "source": [
    "<font size='4.5'>\n",
    "    <font color='blue'>\n",
    "        I want to extend my sincere thanks to the incredible team at </font><font color='red'><strong>CODERSCAVE</strong></font><font color='blue'> for the enlightening Python development internship that has been a transformative journey of growth and discovery.\n",
    "    </font>\n"
   ]
  }
 ],
 "metadata": {
  "kernelspec": {
   "display_name": "Python 3 (ipykernel)",
   "language": "python",
   "name": "python3"
  },
  "language_info": {
   "codemirror_mode": {
    "name": "ipython",
    "version": 3
   },
   "file_extension": ".py",
   "mimetype": "text/x-python",
   "name": "python",
   "nbconvert_exporter": "python",
   "pygments_lexer": "ipython3",
   "version": "3.9.13"
  }
 },
 "nbformat": 4,
 "nbformat_minor": 5
}
